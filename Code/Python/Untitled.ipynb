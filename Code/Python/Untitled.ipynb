{
 "cells": [
  {
   "cell_type": "code",
   "execution_count": 1,
   "metadata": {},
   "outputs": [],
   "source": [
    "data<-read.delim(file = \"clipboard\", sep = \"\\t\")"
   ]
  },
  {
   "cell_type": "code",
   "execution_count": 2,
   "metadata": {},
   "outputs": [
    {
     "data": {
      "text/plain": [
       "    response       CO2                Nutrients\n",
       " 28,59  : 2   Min.   :180   100%Long Ashton:9  \n",
       " 17,36  : 1   1st Qu.:180   50%Long Ashton :8  \n",
       " 21,23  : 1   Median :280                      \n",
       " 21,26  : 1   Mean   :280                      \n",
       " 23,67  : 1   3rd Qu.:400                      \n",
       " 26,37  : 1   Max.   :400                      \n",
       " (Other):10                                    "
      ]
     },
     "metadata": {},
     "output_type": "display_data"
    }
   ],
   "source": [
    "summary(data)"
   ]
  },
  {
   "cell_type": "code",
   "execution_count": 18,
   "metadata": {},
   "outputs": [
    {
     "ename": "ERROR",
     "evalue": "Error in library(Hmisc): there is no package called 'Hmisc'\n",
     "output_type": "error",
     "traceback": [
      "Error in library(Hmisc): there is no package called 'Hmisc'\nTraceback:\n",
      "1. library(Hmisc)"
     ]
    }
   ],
   "source": [
    "library(ggplot2)\n",
    "library(boot)\n",
    "library(Hmisc)"
   ]
  },
  {
   "cell_type": "code",
   "execution_count": 6,
   "metadata": {},
   "outputs": [],
   "source": [
    "data$CO2 <- as.factor(data$co2)\n",
    "data$Nutrients <- as.factor(data$Nutrients)"
   ]
  },
  {
   "cell_type": "code",
   "execution_count": 15,
   "metadata": {},
   "outputs": [],
   "source": [
    "g0 <- ggplot(data, aes(x = CO2, y =biomass)) +\n",
    "  labs(x=expression('Growth'*' '*CO[2]*' '*'(ppm)'), y='C:N')  +\n",
    "  facet_wrap(~Nutrients, ncol=3)"
   ]
  },
  {
   "cell_type": "code",
   "execution_count": 16,
   "metadata": {},
   "outputs": [
    {
     "name": "stderr",
     "output_type": "stream",
     "text": [
      "Warning message:\n",
      "\"`fun.y` is deprecated. Use `fun` instead.\"\n"
     ]
    }
   ],
   "source": [
    "g_box0 <- g0 + geom_bar(stat = \"identity\", fill = \"grey\", colour = \"black\") + theme_bw() +\n",
    "  stat_summary(fun.data = mean_cl_boot, geom = \"errorbar\", colour = \"black\") +\n",
    "  stat_summary(fun.y = mean, geom = \"point\", colour = \"black\") +\n",
    "  theme(panel.grid.minor = element_blank(),panel.grid.major =\n",
    "          element_blank(),panel.background=element_rect(fill=\"white\"))"
   ]
  },
  {
   "cell_type": "code",
   "execution_count": 9,
   "metadata": {},
   "outputs": [
    {
     "ename": "ERROR",
     "evalue": "Error in geom_signif(comparisons = list(c(\"100%\", \"70%\", \"50%\"), map_signif_level = TRUE)): could not find function \"geom_signif\"\n",
     "output_type": "error",
     "traceback": [
      "Error in geom_signif(comparisons = list(c(\"100%\", \"70%\", \"50%\"), map_signif_level = TRUE)): could not find function \"geom_signif\"\nTraceback:\n"
     ]
    }
   ],
   "source": [
    "g<- g_box0 + scale_x_discrete(limits=c(\"50%\", \"70%\", \"100%\")) + geom_signif(comparisons = list(c(\"100%\", \"70%\", \"50%\"), map_signif_level=TRUE))"
   ]
  },
  {
   "cell_type": "code",
   "execution_count": 17,
   "metadata": {},
   "outputs": [
    {
     "name": "stderr",
     "output_type": "stream",
     "text": [
      "Warning message:\n",
      "\"Computation failed in `stat_summary()`:\n",
      "Hmisc package required for this function\"\n",
      "Warning message:\n",
      "\"Computation failed in `stat_summary()`:\n",
      "Hmisc package required for this function\"\n",
      "Warning message:\n",
      "\"Computation failed in `stat_summary()`:\n",
      "Hmisc package required for this function\"\n"
     ]
    },
    {
     "data": {
      "image/png": "[encoded data removed]",
      "text/plain": [
       "plot without title"
      ]
     },
     "metadata": {
      "image/png": {
       "height": 420,
       "width": 420
      },
      "text/plain": {
       "height": 420,
       "width": 420
      }
     },
     "output_type": "display_data"
    }
   ],
   "source": [
    "g_box0"
   ]
  },
  {
   "cell_type": "code",
   "execution_count": null,
   "metadata": {},
   "outputs": [],
   "source": []
  }
 ],
 "metadata": {
  "kernelspec": {
   "display_name": "R",
   "language": "R",
   "name": "ir"
  },
  "language_info": {
   "codemirror_mode": "r",
   "file_extension": ".r",
   "mimetype": "text/x-r-source",
   "name": "R",
   "pygments_lexer": "r",
   "version": "3.6.3"
  }
 },
 "nbformat": 4,
 "nbformat_minor": 2
}
